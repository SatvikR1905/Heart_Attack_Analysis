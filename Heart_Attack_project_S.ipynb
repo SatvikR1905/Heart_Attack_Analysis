{
 "cells": [
  {
   "cell_type": "code",
   "execution_count": 181,
   "id": "da1a9a90",
   "metadata": {},
   "outputs": [],
   "source": [
    "import pandas as pd\n",
    "import numpy as np\n",
    "import seaborn as sns\n",
    "import matplotlib.pyplot as plt"
   ]
  },
  {
   "cell_type": "code",
   "execution_count": 182,
   "id": "3d649de7",
   "metadata": {},
   "outputs": [],
   "source": [
    "df=pd.read_csv(\"HeartFailure.csv\")"
   ]
  },
  {
   "cell_type": "code",
   "execution_count": 183,
   "id": "e6f09cc0",
   "metadata": {},
   "outputs": [
    {
     "data": {
      "text/html": [
       "<div>\n",
       "<style scoped>\n",
       "    .dataframe tbody tr th:only-of-type {\n",
       "        vertical-align: middle;\n",
       "    }\n",
       "\n",
       "    .dataframe tbody tr th {\n",
       "        vertical-align: top;\n",
       "    }\n",
       "\n",
       "    .dataframe thead th {\n",
       "        text-align: right;\n",
       "    }\n",
       "</style>\n",
       "<table border=\"1\" class=\"dataframe\">\n",
       "  <thead>\n",
       "    <tr style=\"text-align: right;\">\n",
       "      <th></th>\n",
       "      <th>Age</th>\n",
       "      <th>Sex</th>\n",
       "      <th>ChestPainType</th>\n",
       "      <th>RestingBP</th>\n",
       "      <th>Cholesterol</th>\n",
       "      <th>FastingBS</th>\n",
       "      <th>RestingECG</th>\n",
       "      <th>MaxHR</th>\n",
       "      <th>ExerciseAngina</th>\n",
       "      <th>Oldpeak</th>\n",
       "      <th>ST_Slope</th>\n",
       "      <th>HeartDisease</th>\n",
       "    </tr>\n",
       "  </thead>\n",
       "  <tbody>\n",
       "    <tr>\n",
       "      <th>0</th>\n",
       "      <td>40</td>\n",
       "      <td>M</td>\n",
       "      <td>ATA</td>\n",
       "      <td>140</td>\n",
       "      <td>289</td>\n",
       "      <td>0</td>\n",
       "      <td>Normal</td>\n",
       "      <td>172</td>\n",
       "      <td>N</td>\n",
       "      <td>0.0</td>\n",
       "      <td>Up</td>\n",
       "      <td>0</td>\n",
       "    </tr>\n",
       "    <tr>\n",
       "      <th>1</th>\n",
       "      <td>49</td>\n",
       "      <td>F</td>\n",
       "      <td>NAP</td>\n",
       "      <td>160</td>\n",
       "      <td>180</td>\n",
       "      <td>0</td>\n",
       "      <td>Normal</td>\n",
       "      <td>156</td>\n",
       "      <td>N</td>\n",
       "      <td>1.0</td>\n",
       "      <td>Flat</td>\n",
       "      <td>1</td>\n",
       "    </tr>\n",
       "    <tr>\n",
       "      <th>2</th>\n",
       "      <td>37</td>\n",
       "      <td>M</td>\n",
       "      <td>ATA</td>\n",
       "      <td>130</td>\n",
       "      <td>283</td>\n",
       "      <td>0</td>\n",
       "      <td>ST</td>\n",
       "      <td>98</td>\n",
       "      <td>N</td>\n",
       "      <td>0.0</td>\n",
       "      <td>Up</td>\n",
       "      <td>0</td>\n",
       "    </tr>\n",
       "    <tr>\n",
       "      <th>3</th>\n",
       "      <td>48</td>\n",
       "      <td>F</td>\n",
       "      <td>ASY</td>\n",
       "      <td>138</td>\n",
       "      <td>214</td>\n",
       "      <td>0</td>\n",
       "      <td>Normal</td>\n",
       "      <td>108</td>\n",
       "      <td>Y</td>\n",
       "      <td>1.5</td>\n",
       "      <td>Flat</td>\n",
       "      <td>1</td>\n",
       "    </tr>\n",
       "    <tr>\n",
       "      <th>4</th>\n",
       "      <td>54</td>\n",
       "      <td>M</td>\n",
       "      <td>NAP</td>\n",
       "      <td>150</td>\n",
       "      <td>195</td>\n",
       "      <td>0</td>\n",
       "      <td>Normal</td>\n",
       "      <td>122</td>\n",
       "      <td>N</td>\n",
       "      <td>0.0</td>\n",
       "      <td>Up</td>\n",
       "      <td>0</td>\n",
       "    </tr>\n",
       "  </tbody>\n",
       "</table>\n",
       "</div>"
      ],
      "text/plain": [
       "   Age Sex ChestPainType  RestingBP  Cholesterol  FastingBS RestingECG  MaxHR   \n",
       "0   40   M           ATA        140          289          0     Normal    172  \\\n",
       "1   49   F           NAP        160          180          0     Normal    156   \n",
       "2   37   M           ATA        130          283          0         ST     98   \n",
       "3   48   F           ASY        138          214          0     Normal    108   \n",
       "4   54   M           NAP        150          195          0     Normal    122   \n",
       "\n",
       "  ExerciseAngina  Oldpeak ST_Slope  HeartDisease  \n",
       "0              N      0.0       Up             0  \n",
       "1              N      1.0     Flat             1  \n",
       "2              N      0.0       Up             0  \n",
       "3              Y      1.5     Flat             1  \n",
       "4              N      0.0       Up             0  "
      ]
     },
     "execution_count": 183,
     "metadata": {},
     "output_type": "execute_result"
    }
   ],
   "source": [
    "df.head()\n"
   ]
  },
  {
   "cell_type": "code",
   "execution_count": 184,
   "id": "c77e7713",
   "metadata": {},
   "outputs": [],
   "source": [
    "df0 = df.loc[df[\"HeartDisease\"]==0] #to collect information of the ppl who dont have heart disease"
   ]
  },
  {
   "cell_type": "code",
   "execution_count": 185,
   "id": "1ea717a7",
   "metadata": {},
   "outputs": [
    {
     "data": {
      "text/html": [
       "<div>\n",
       "<style scoped>\n",
       "    .dataframe tbody tr th:only-of-type {\n",
       "        vertical-align: middle;\n",
       "    }\n",
       "\n",
       "    .dataframe tbody tr th {\n",
       "        vertical-align: top;\n",
       "    }\n",
       "\n",
       "    .dataframe thead th {\n",
       "        text-align: right;\n",
       "    }\n",
       "</style>\n",
       "<table border=\"1\" class=\"dataframe\">\n",
       "  <thead>\n",
       "    <tr style=\"text-align: right;\">\n",
       "      <th></th>\n",
       "      <th>Age</th>\n",
       "      <th>Sex</th>\n",
       "      <th>ChestPainType</th>\n",
       "      <th>RestingBP</th>\n",
       "      <th>Cholesterol</th>\n",
       "      <th>FastingBS</th>\n",
       "      <th>RestingECG</th>\n",
       "      <th>MaxHR</th>\n",
       "      <th>ExerciseAngina</th>\n",
       "      <th>Oldpeak</th>\n",
       "      <th>ST_Slope</th>\n",
       "      <th>HeartDisease</th>\n",
       "    </tr>\n",
       "  </thead>\n",
       "  <tbody>\n",
       "    <tr>\n",
       "      <th>0</th>\n",
       "      <td>40</td>\n",
       "      <td>M</td>\n",
       "      <td>ATA</td>\n",
       "      <td>140</td>\n",
       "      <td>289</td>\n",
       "      <td>0</td>\n",
       "      <td>Normal</td>\n",
       "      <td>172</td>\n",
       "      <td>N</td>\n",
       "      <td>0.0</td>\n",
       "      <td>Up</td>\n",
       "      <td>0</td>\n",
       "    </tr>\n",
       "    <tr>\n",
       "      <th>2</th>\n",
       "      <td>37</td>\n",
       "      <td>M</td>\n",
       "      <td>ATA</td>\n",
       "      <td>130</td>\n",
       "      <td>283</td>\n",
       "      <td>0</td>\n",
       "      <td>ST</td>\n",
       "      <td>98</td>\n",
       "      <td>N</td>\n",
       "      <td>0.0</td>\n",
       "      <td>Up</td>\n",
       "      <td>0</td>\n",
       "    </tr>\n",
       "    <tr>\n",
       "      <th>4</th>\n",
       "      <td>54</td>\n",
       "      <td>M</td>\n",
       "      <td>NAP</td>\n",
       "      <td>150</td>\n",
       "      <td>195</td>\n",
       "      <td>0</td>\n",
       "      <td>Normal</td>\n",
       "      <td>122</td>\n",
       "      <td>N</td>\n",
       "      <td>0.0</td>\n",
       "      <td>Up</td>\n",
       "      <td>0</td>\n",
       "    </tr>\n",
       "    <tr>\n",
       "      <th>5</th>\n",
       "      <td>39</td>\n",
       "      <td>M</td>\n",
       "      <td>NAP</td>\n",
       "      <td>120</td>\n",
       "      <td>339</td>\n",
       "      <td>0</td>\n",
       "      <td>Normal</td>\n",
       "      <td>170</td>\n",
       "      <td>N</td>\n",
       "      <td>0.0</td>\n",
       "      <td>Up</td>\n",
       "      <td>0</td>\n",
       "    </tr>\n",
       "    <tr>\n",
       "      <th>6</th>\n",
       "      <td>45</td>\n",
       "      <td>F</td>\n",
       "      <td>ATA</td>\n",
       "      <td>130</td>\n",
       "      <td>237</td>\n",
       "      <td>0</td>\n",
       "      <td>Normal</td>\n",
       "      <td>170</td>\n",
       "      <td>N</td>\n",
       "      <td>0.0</td>\n",
       "      <td>Up</td>\n",
       "      <td>0</td>\n",
       "    </tr>\n",
       "  </tbody>\n",
       "</table>\n",
       "</div>"
      ],
      "text/plain": [
       "   Age Sex ChestPainType  RestingBP  Cholesterol  FastingBS RestingECG  MaxHR   \n",
       "0   40   M           ATA        140          289          0     Normal    172  \\\n",
       "2   37   M           ATA        130          283          0         ST     98   \n",
       "4   54   M           NAP        150          195          0     Normal    122   \n",
       "5   39   M           NAP        120          339          0     Normal    170   \n",
       "6   45   F           ATA        130          237          0     Normal    170   \n",
       "\n",
       "  ExerciseAngina  Oldpeak ST_Slope  HeartDisease  \n",
       "0              N      0.0       Up             0  \n",
       "2              N      0.0       Up             0  \n",
       "4              N      0.0       Up             0  \n",
       "5              N      0.0       Up             0  \n",
       "6              N      0.0       Up             0  "
      ]
     },
     "execution_count": 185,
     "metadata": {},
     "output_type": "execute_result"
    }
   ],
   "source": [
    "df0.head() #loc command used to take info on particular row or col"
   ]
  },
  {
   "cell_type": "code",
   "execution_count": 186,
   "id": "8be372de",
   "metadata": {},
   "outputs": [],
   "source": [
    "df1 = df.loc[df[\"HeartDisease\"]==1]"
   ]
  },
  {
   "cell_type": "code",
   "execution_count": 187,
   "id": "d61b0f61",
   "metadata": {},
   "outputs": [
    {
     "data": {
      "text/html": [
       "<div>\n",
       "<style scoped>\n",
       "    .dataframe tbody tr th:only-of-type {\n",
       "        vertical-align: middle;\n",
       "    }\n",
       "\n",
       "    .dataframe tbody tr th {\n",
       "        vertical-align: top;\n",
       "    }\n",
       "\n",
       "    .dataframe thead th {\n",
       "        text-align: right;\n",
       "    }\n",
       "</style>\n",
       "<table border=\"1\" class=\"dataframe\">\n",
       "  <thead>\n",
       "    <tr style=\"text-align: right;\">\n",
       "      <th></th>\n",
       "      <th>Age</th>\n",
       "      <th>Sex</th>\n",
       "      <th>ChestPainType</th>\n",
       "      <th>RestingBP</th>\n",
       "      <th>Cholesterol</th>\n",
       "      <th>FastingBS</th>\n",
       "      <th>RestingECG</th>\n",
       "      <th>MaxHR</th>\n",
       "      <th>ExerciseAngina</th>\n",
       "      <th>Oldpeak</th>\n",
       "      <th>ST_Slope</th>\n",
       "      <th>HeartDisease</th>\n",
       "    </tr>\n",
       "  </thead>\n",
       "  <tbody>\n",
       "    <tr>\n",
       "      <th>1</th>\n",
       "      <td>49</td>\n",
       "      <td>F</td>\n",
       "      <td>NAP</td>\n",
       "      <td>160</td>\n",
       "      <td>180</td>\n",
       "      <td>0</td>\n",
       "      <td>Normal</td>\n",
       "      <td>156</td>\n",
       "      <td>N</td>\n",
       "      <td>1.0</td>\n",
       "      <td>Flat</td>\n",
       "      <td>1</td>\n",
       "    </tr>\n",
       "    <tr>\n",
       "      <th>3</th>\n",
       "      <td>48</td>\n",
       "      <td>F</td>\n",
       "      <td>ASY</td>\n",
       "      <td>138</td>\n",
       "      <td>214</td>\n",
       "      <td>0</td>\n",
       "      <td>Normal</td>\n",
       "      <td>108</td>\n",
       "      <td>Y</td>\n",
       "      <td>1.5</td>\n",
       "      <td>Flat</td>\n",
       "      <td>1</td>\n",
       "    </tr>\n",
       "    <tr>\n",
       "      <th>8</th>\n",
       "      <td>37</td>\n",
       "      <td>M</td>\n",
       "      <td>ASY</td>\n",
       "      <td>140</td>\n",
       "      <td>207</td>\n",
       "      <td>0</td>\n",
       "      <td>Normal</td>\n",
       "      <td>130</td>\n",
       "      <td>Y</td>\n",
       "      <td>1.5</td>\n",
       "      <td>Flat</td>\n",
       "      <td>1</td>\n",
       "    </tr>\n",
       "    <tr>\n",
       "      <th>11</th>\n",
       "      <td>58</td>\n",
       "      <td>M</td>\n",
       "      <td>ATA</td>\n",
       "      <td>136</td>\n",
       "      <td>164</td>\n",
       "      <td>0</td>\n",
       "      <td>ST</td>\n",
       "      <td>99</td>\n",
       "      <td>Y</td>\n",
       "      <td>2.0</td>\n",
       "      <td>Flat</td>\n",
       "      <td>1</td>\n",
       "    </tr>\n",
       "    <tr>\n",
       "      <th>13</th>\n",
       "      <td>49</td>\n",
       "      <td>M</td>\n",
       "      <td>ASY</td>\n",
       "      <td>140</td>\n",
       "      <td>234</td>\n",
       "      <td>0</td>\n",
       "      <td>Normal</td>\n",
       "      <td>140</td>\n",
       "      <td>Y</td>\n",
       "      <td>1.0</td>\n",
       "      <td>Flat</td>\n",
       "      <td>1</td>\n",
       "    </tr>\n",
       "  </tbody>\n",
       "</table>\n",
       "</div>"
      ],
      "text/plain": [
       "    Age Sex ChestPainType  RestingBP  Cholesterol  FastingBS RestingECG   \n",
       "1    49   F           NAP        160          180          0     Normal  \\\n",
       "3    48   F           ASY        138          214          0     Normal   \n",
       "8    37   M           ASY        140          207          0     Normal   \n",
       "11   58   M           ATA        136          164          0         ST   \n",
       "13   49   M           ASY        140          234          0     Normal   \n",
       "\n",
       "    MaxHR ExerciseAngina  Oldpeak ST_Slope  HeartDisease  \n",
       "1     156              N      1.0     Flat             1  \n",
       "3     108              Y      1.5     Flat             1  \n",
       "8     130              Y      1.5     Flat             1  \n",
       "11     99              Y      2.0     Flat             1  \n",
       "13    140              Y      1.0     Flat             1  "
      ]
     },
     "execution_count": 187,
     "metadata": {},
     "output_type": "execute_result"
    }
   ],
   "source": [
    "df1.head()"
   ]
  },
  {
   "cell_type": "code",
   "execution_count": 188,
   "id": "7ea200f6",
   "metadata": {},
   "outputs": [
    {
     "data": {
      "text/plain": [
       "Age               0\n",
       "Sex               0\n",
       "ChestPainType     0\n",
       "RestingBP         0\n",
       "Cholesterol       0\n",
       "FastingBS         0\n",
       "RestingECG        0\n",
       "MaxHR             0\n",
       "ExerciseAngina    0\n",
       "Oldpeak           0\n",
       "ST_Slope          0\n",
       "HeartDisease      0\n",
       "dtype: int64"
      ]
     },
     "execution_count": 188,
     "metadata": {},
     "output_type": "execute_result"
    }
   ],
   "source": [
    "df.isnull().sum()"
   ]
  },
  {
   "cell_type": "code",
   "execution_count": 189,
   "id": "43fc1f8b",
   "metadata": {},
   "outputs": [
    {
     "name": "stdout",
     "output_type": "stream",
     "text": [
      "<class 'pandas.core.frame.DataFrame'>\n",
      "RangeIndex: 918 entries, 0 to 917\n",
      "Data columns (total 12 columns):\n",
      " #   Column          Non-Null Count  Dtype  \n",
      "---  ------          --------------  -----  \n",
      " 0   Age             918 non-null    int64  \n",
      " 1   Sex             918 non-null    object \n",
      " 2   ChestPainType   918 non-null    object \n",
      " 3   RestingBP       918 non-null    int64  \n",
      " 4   Cholesterol     918 non-null    int64  \n",
      " 5   FastingBS       918 non-null    int64  \n",
      " 6   RestingECG      918 non-null    object \n",
      " 7   MaxHR           918 non-null    int64  \n",
      " 8   ExerciseAngina  918 non-null    object \n",
      " 9   Oldpeak         918 non-null    float64\n",
      " 10  ST_Slope        918 non-null    object \n",
      " 11  HeartDisease    918 non-null    int64  \n",
      "dtypes: float64(1), int64(6), object(5)\n",
      "memory usage: 86.2+ KB\n"
     ]
    }
   ],
   "source": [
    "df.info()"
   ]
  },
  {
   "cell_type": "code",
   "execution_count": 190,
   "id": "8e613017",
   "metadata": {},
   "outputs": [
    {
     "data": {
      "text/html": [
       "<div>\n",
       "<style scoped>\n",
       "    .dataframe tbody tr th:only-of-type {\n",
       "        vertical-align: middle;\n",
       "    }\n",
       "\n",
       "    .dataframe tbody tr th {\n",
       "        vertical-align: top;\n",
       "    }\n",
       "\n",
       "    .dataframe thead th {\n",
       "        text-align: right;\n",
       "    }\n",
       "</style>\n",
       "<table border=\"1\" class=\"dataframe\">\n",
       "  <thead>\n",
       "    <tr style=\"text-align: right;\">\n",
       "      <th></th>\n",
       "      <th>Age</th>\n",
       "      <th>RestingBP</th>\n",
       "      <th>Cholesterol</th>\n",
       "      <th>FastingBS</th>\n",
       "      <th>MaxHR</th>\n",
       "      <th>Oldpeak</th>\n",
       "      <th>HeartDisease</th>\n",
       "    </tr>\n",
       "  </thead>\n",
       "  <tbody>\n",
       "    <tr>\n",
       "      <th>count</th>\n",
       "      <td>918.000000</td>\n",
       "      <td>918.000000</td>\n",
       "      <td>918.000000</td>\n",
       "      <td>918.000000</td>\n",
       "      <td>918.000000</td>\n",
       "      <td>918.000000</td>\n",
       "      <td>918.000000</td>\n",
       "    </tr>\n",
       "    <tr>\n",
       "      <th>mean</th>\n",
       "      <td>53.510893</td>\n",
       "      <td>132.396514</td>\n",
       "      <td>198.799564</td>\n",
       "      <td>0.233115</td>\n",
       "      <td>136.809368</td>\n",
       "      <td>0.887364</td>\n",
       "      <td>0.553377</td>\n",
       "    </tr>\n",
       "    <tr>\n",
       "      <th>std</th>\n",
       "      <td>9.432617</td>\n",
       "      <td>18.514154</td>\n",
       "      <td>109.384145</td>\n",
       "      <td>0.423046</td>\n",
       "      <td>25.460334</td>\n",
       "      <td>1.066570</td>\n",
       "      <td>0.497414</td>\n",
       "    </tr>\n",
       "    <tr>\n",
       "      <th>min</th>\n",
       "      <td>28.000000</td>\n",
       "      <td>0.000000</td>\n",
       "      <td>0.000000</td>\n",
       "      <td>0.000000</td>\n",
       "      <td>60.000000</td>\n",
       "      <td>-2.600000</td>\n",
       "      <td>0.000000</td>\n",
       "    </tr>\n",
       "    <tr>\n",
       "      <th>25%</th>\n",
       "      <td>47.000000</td>\n",
       "      <td>120.000000</td>\n",
       "      <td>173.250000</td>\n",
       "      <td>0.000000</td>\n",
       "      <td>120.000000</td>\n",
       "      <td>0.000000</td>\n",
       "      <td>0.000000</td>\n",
       "    </tr>\n",
       "    <tr>\n",
       "      <th>50%</th>\n",
       "      <td>54.000000</td>\n",
       "      <td>130.000000</td>\n",
       "      <td>223.000000</td>\n",
       "      <td>0.000000</td>\n",
       "      <td>138.000000</td>\n",
       "      <td>0.600000</td>\n",
       "      <td>1.000000</td>\n",
       "    </tr>\n",
       "    <tr>\n",
       "      <th>75%</th>\n",
       "      <td>60.000000</td>\n",
       "      <td>140.000000</td>\n",
       "      <td>267.000000</td>\n",
       "      <td>0.000000</td>\n",
       "      <td>156.000000</td>\n",
       "      <td>1.500000</td>\n",
       "      <td>1.000000</td>\n",
       "    </tr>\n",
       "    <tr>\n",
       "      <th>max</th>\n",
       "      <td>77.000000</td>\n",
       "      <td>200.000000</td>\n",
       "      <td>603.000000</td>\n",
       "      <td>1.000000</td>\n",
       "      <td>202.000000</td>\n",
       "      <td>6.200000</td>\n",
       "      <td>1.000000</td>\n",
       "    </tr>\n",
       "  </tbody>\n",
       "</table>\n",
       "</div>"
      ],
      "text/plain": [
       "              Age   RestingBP  Cholesterol   FastingBS       MaxHR   \n",
       "count  918.000000  918.000000   918.000000  918.000000  918.000000  \\\n",
       "mean    53.510893  132.396514   198.799564    0.233115  136.809368   \n",
       "std      9.432617   18.514154   109.384145    0.423046   25.460334   \n",
       "min     28.000000    0.000000     0.000000    0.000000   60.000000   \n",
       "25%     47.000000  120.000000   173.250000    0.000000  120.000000   \n",
       "50%     54.000000  130.000000   223.000000    0.000000  138.000000   \n",
       "75%     60.000000  140.000000   267.000000    0.000000  156.000000   \n",
       "max     77.000000  200.000000   603.000000    1.000000  202.000000   \n",
       "\n",
       "          Oldpeak  HeartDisease  \n",
       "count  918.000000    918.000000  \n",
       "mean     0.887364      0.553377  \n",
       "std      1.066570      0.497414  \n",
       "min     -2.600000      0.000000  \n",
       "25%      0.000000      0.000000  \n",
       "50%      0.600000      1.000000  \n",
       "75%      1.500000      1.000000  \n",
       "max      6.200000      1.000000  "
      ]
     },
     "execution_count": 190,
     "metadata": {},
     "output_type": "execute_result"
    }
   ],
   "source": [
    "df.describe()"
   ]
  },
  {
   "cell_type": "code",
   "execution_count": 191,
   "id": "1ceaf60d",
   "metadata": {},
   "outputs": [
    {
     "data": {
      "text/plain": [
       "Sex\n",
       "M    725\n",
       "F    193\n",
       "Name: count, dtype: int64"
      ]
     },
     "execution_count": 191,
     "metadata": {},
     "output_type": "execute_result"
    }
   ],
   "source": [
    "df[\"Sex\"].value_counts()"
   ]
  },
  {
   "cell_type": "code",
   "execution_count": 192,
   "id": "547f6432",
   "metadata": {},
   "outputs": [
    {
     "data": {
      "text/plain": [
       "ChestPainType\n",
       "ASY    496\n",
       "NAP    203\n",
       "ATA    173\n",
       "TA      46\n",
       "Name: count, dtype: int64"
      ]
     },
     "execution_count": 192,
     "metadata": {},
     "output_type": "execute_result"
    }
   ],
   "source": [
    "df[\"ChestPainType\"].value_counts()"
   ]
  },
  {
   "cell_type": "code",
   "execution_count": 193,
   "id": "f9432518",
   "metadata": {},
   "outputs": [
    {
     "data": {
      "text/plain": [
       "RestingECG\n",
       "Normal    552\n",
       "LVH       188\n",
       "ST        178\n",
       "Name: count, dtype: int64"
      ]
     },
     "execution_count": 193,
     "metadata": {},
     "output_type": "execute_result"
    }
   ],
   "source": [
    "df[\"RestingECG\"].value_counts()"
   ]
  },
  {
   "cell_type": "code",
   "execution_count": 194,
   "id": "8161684f",
   "metadata": {},
   "outputs": [
    {
     "data": {
      "text/plain": [
       "ST_Slope\n",
       "Flat    460\n",
       "Up      395\n",
       "Down     63\n",
       "Name: count, dtype: int64"
      ]
     },
     "execution_count": 194,
     "metadata": {},
     "output_type": "execute_result"
    }
   ],
   "source": [
    "df[\"ST_Slope\"].value_counts()"
   ]
  },
  {
   "cell_type": "code",
   "execution_count": 195,
   "id": "2f5f8168",
   "metadata": {},
   "outputs": [
    {
     "data": {
      "text/plain": [
       "ExerciseAngina\n",
       "N    547\n",
       "Y    371\n",
       "Name: count, dtype: int64"
      ]
     },
     "execution_count": 195,
     "metadata": {},
     "output_type": "execute_result"
    }
   ],
   "source": [
    "df[\"ExerciseAngina\"].value_counts()"
   ]
  },
  {
   "cell_type": "code",
   "execution_count": 196,
   "id": "100c14ce",
   "metadata": {},
   "outputs": [
    {
     "data": {
      "text/plain": [
       "FastingBS\n",
       "0    704\n",
       "1    214\n",
       "Name: count, dtype: int64"
      ]
     },
     "execution_count": 196,
     "metadata": {},
     "output_type": "execute_result"
    }
   ],
   "source": [
    "df[\"FastingBS\"].value_counts()"
   ]
  },
  {
   "cell_type": "code",
   "execution_count": 197,
   "id": "5a38513f",
   "metadata": {},
   "outputs": [
    {
     "data": {
      "text/plain": [
       "[Text(0.5, 1.0, 'Distribution plot of Age'), Text(0.5, 0, 'Age')]"
      ]
     },
     "execution_count": 197,
     "metadata": {},
     "output_type": "execute_result"
    },
    {
     "data": {
      "image/png": "[encoded data removed]",
      "text/plain": [
       "<Figure size 432x288 with 1 Axes>"
      ]
     },
     "metadata": {},
     "output_type": "display_data"
    }
   ],
   "source": [
    "df['Age'].plot(kind='kde').set(title=\"Distribution plot of Age\",xlabel=\"Age\")\n",
    "#Distribution plot of age \n",
    "#This density plot shows the distribution of numeric variable as here in thi fig it shows that highest number of ppl present belong to the age 50"
   ]
  },
  {
   "cell_type": "code",
   "execution_count": 198,
   "id": "d5be6117",
   "metadata": {},
   "outputs": [
    {
     "name": "stderr",
     "output_type": "stream",
     "text": [
      "C:\\Users\\Madhuri\\anaconda3\\lib\\site-packages\\seaborn\\distributions.py:2619: FutureWarning: `distplot` is a deprecated function and will be removed in a future version. Please adapt your code to use either `displot` (a figure-level function with similar flexibility) or `histplot` (an axes-level function for histograms).\n",
      "  warnings.warn(msg, FutureWarning)\n"
     ]
    },
    {
     "data": {
      "text/plain": [
       "[Text(0.5, 1.0, 'AgeD for Heart Disease'), Text(0, 0.5, 'count')]"
      ]
     },
     "execution_count": 198,
     "metadata": {},
     "output_type": "execute_result"
    },
    {
     "data": {
      "image/png": "[encoded data removed]",
      "text/plain": [
       "<Figure size 432x288 with 1 Axes>"
      ]
     },
     "metadata": {},
     "output_type": "display_data"
    }
   ],
   "source": [
    "#effect of age on heart disease\n",
    "sns.set_style('whitegrid')\n",
    "sns.distplot(df1['Age'], kde = False, color = 'red', bins = 30).set(title = \"AgeD for Heart Disease\",ylabel=\"count\")\n",
    "#distplot(distribution plot) depicts the variation in data distribution i.e continous data variables"
   ]
  },
  {
   "cell_type": "code",
   "execution_count": 199,
   "id": "697db1d6",
   "metadata": {},
   "outputs": [],
   "source": [
    "#kde - kernel density estimate used to showcase the distribution of observations  in a dataset"
   ]
  },
  {
   "cell_type": "code",
   "execution_count": 200,
   "id": "5ac0b860",
   "metadata": {},
   "outputs": [
    {
     "data": {
      "text/plain": [
       "[Text(0.5, 1.0, 'AgeD for NO Heart Disease'), Text(0, 0.5, 'count')]"
      ]
     },
     "execution_count": 200,
     "metadata": {},
     "output_type": "execute_result"
    },
    {
     "data": {
      "image/png": "[encoded data removed]",
      "text/plain": [
       "<Figure size 432x288 with 1 Axes>"
      ]
     },
     "metadata": {},
     "output_type": "display_data"
    }
   ],
   "source": [
    "# Effect of age on no heart disease\n",
    "sns.set_style('whitegrid')\n",
    "sns.distplot(df1['Age'], kde = False, color = 'blue', bins = 30).set(title = \"AgeD for NO Heart Disease\",ylabel=\"count\")"
   ]
  },
  {
   "cell_type": "code",
   "execution_count": 201,
   "id": "b96e93e5",
   "metadata": {},
   "outputs": [],
   "source": [
    "agerange = pd.cut(x=df['Age'], bins=[0,10,20,30,40,50,60,70,80,90,100])\n",
    "df['Agerange'] = agerange\n",
    "# cut function is to convert continous data variable to categorical data variable\n",
    "#bins- specify ranges"
   ]
  },
  {
   "cell_type": "code",
   "execution_count": 202,
   "id": "41adc574",
   "metadata": {},
   "outputs": [
    {
     "data": {
      "text/html": [
       "<div>\n",
       "<style scoped>\n",
       "    .dataframe tbody tr th:only-of-type {\n",
       "        vertical-align: middle;\n",
       "    }\n",
       "\n",
       "    .dataframe tbody tr th {\n",
       "        vertical-align: top;\n",
       "    }\n",
       "\n",
       "    .dataframe thead th {\n",
       "        text-align: right;\n",
       "    }\n",
       "</style>\n",
       "<table border=\"1\" class=\"dataframe\">\n",
       "  <thead>\n",
       "    <tr style=\"text-align: right;\">\n",
       "      <th>HeartDisease</th>\n",
       "      <th>0</th>\n",
       "      <th>1</th>\n",
       "    </tr>\n",
       "    <tr>\n",
       "      <th>Agerange</th>\n",
       "      <th></th>\n",
       "      <th></th>\n",
       "    </tr>\n",
       "  </thead>\n",
       "  <tbody>\n",
       "    <tr>\n",
       "      <th>(20, 30]</th>\n",
       "      <td>5</td>\n",
       "      <td>0</td>\n",
       "    </tr>\n",
       "    <tr>\n",
       "      <th>(30, 40]</th>\n",
       "      <td>56</td>\n",
       "      <td>32</td>\n",
       "    </tr>\n",
       "    <tr>\n",
       "      <th>(40, 50]</th>\n",
       "      <td>130</td>\n",
       "      <td>93</td>\n",
       "    </tr>\n",
       "    <tr>\n",
       "      <th>(50, 60]</th>\n",
       "      <td>159</td>\n",
       "      <td>222</td>\n",
       "    </tr>\n",
       "    <tr>\n",
       "      <th>(60, 70]</th>\n",
       "      <td>52</td>\n",
       "      <td>145</td>\n",
       "    </tr>\n",
       "    <tr>\n",
       "      <th>(70, 80]</th>\n",
       "      <td>8</td>\n",
       "      <td>16</td>\n",
       "    </tr>\n",
       "  </tbody>\n",
       "</table>\n",
       "</div>"
      ],
      "text/plain": [
       "HeartDisease    0    1\n",
       "Agerange              \n",
       "(20, 30]        5    0\n",
       "(30, 40]       56   32\n",
       "(40, 50]      130   93\n",
       "(50, 60]      159  222\n",
       "(60, 70]       52  145\n",
       "(70, 80]        8   16"
      ]
     },
     "execution_count": 202,
     "metadata": {},
     "output_type": "execute_result"
    }
   ],
   "source": [
    "#effect of different ranges of age on the Heart disease\n",
    "pd.crosstab(df[\"Agerange\"],df[\"HeartDisease\"])"
   ]
  },
  {
   "cell_type": "code",
   "execution_count": 203,
   "id": "af8914d5",
   "metadata": {},
   "outputs": [
    {
     "data": {
      "text/html": [
       "<div>\n",
       "<style scoped>\n",
       "    .dataframe tbody tr th:only-of-type {\n",
       "        vertical-align: middle;\n",
       "    }\n",
       "\n",
       "    .dataframe tbody tr th {\n",
       "        vertical-align: top;\n",
       "    }\n",
       "\n",
       "    .dataframe thead th {\n",
       "        text-align: right;\n",
       "    }\n",
       "</style>\n",
       "<table border=\"1\" class=\"dataframe\">\n",
       "  <thead>\n",
       "    <tr style=\"text-align: right;\">\n",
       "      <th>HeartDisease</th>\n",
       "      <th>0</th>\n",
       "      <th>1</th>\n",
       "    </tr>\n",
       "    <tr>\n",
       "      <th>Sex</th>\n",
       "      <th></th>\n",
       "      <th></th>\n",
       "    </tr>\n",
       "  </thead>\n",
       "  <tbody>\n",
       "    <tr>\n",
       "      <th>F</th>\n",
       "      <td>143</td>\n",
       "      <td>50</td>\n",
       "    </tr>\n",
       "    <tr>\n",
       "      <th>M</th>\n",
       "      <td>267</td>\n",
       "      <td>458</td>\n",
       "    </tr>\n",
       "  </tbody>\n",
       "</table>\n",
       "</div>"
      ],
      "text/plain": [
       "HeartDisease    0    1\n",
       "Sex                   \n",
       "F             143   50\n",
       "M             267  458"
      ]
     },
     "execution_count": 203,
     "metadata": {},
     "output_type": "execute_result"
    }
   ],
   "source": [
    "#effect of sex on Heart Disease\n",
    "pd.crosstab(df[\"Sex\"],df[\"HeartDisease\"])"
   ]
  },
  {
   "cell_type": "code",
   "execution_count": 204,
   "id": "31b65c3c",
   "metadata": {},
   "outputs": [
    {
     "data": {
      "text/html": [
       "<div>\n",
       "<style scoped>\n",
       "    .dataframe tbody tr th:only-of-type {\n",
       "        vertical-align: middle;\n",
       "    }\n",
       "\n",
       "    .dataframe tbody tr th {\n",
       "        vertical-align: top;\n",
       "    }\n",
       "\n",
       "    .dataframe thead th {\n",
       "        text-align: right;\n",
       "    }\n",
       "</style>\n",
       "<table border=\"1\" class=\"dataframe\">\n",
       "  <thead>\n",
       "    <tr style=\"text-align: right;\">\n",
       "      <th>HeartDisease</th>\n",
       "      <th>0</th>\n",
       "      <th>1</th>\n",
       "    </tr>\n",
       "    <tr>\n",
       "      <th>ChestPainType</th>\n",
       "      <th></th>\n",
       "      <th></th>\n",
       "    </tr>\n",
       "  </thead>\n",
       "  <tbody>\n",
       "    <tr>\n",
       "      <th>ASY</th>\n",
       "      <td>104</td>\n",
       "      <td>392</td>\n",
       "    </tr>\n",
       "    <tr>\n",
       "      <th>ATA</th>\n",
       "      <td>149</td>\n",
       "      <td>24</td>\n",
       "    </tr>\n",
       "    <tr>\n",
       "      <th>NAP</th>\n",
       "      <td>131</td>\n",
       "      <td>72</td>\n",
       "    </tr>\n",
       "    <tr>\n",
       "      <th>TA</th>\n",
       "      <td>26</td>\n",
       "      <td>20</td>\n",
       "    </tr>\n",
       "  </tbody>\n",
       "</table>\n",
       "</div>"
      ],
      "text/plain": [
       "HeartDisease     0    1\n",
       "ChestPainType          \n",
       "ASY            104  392\n",
       "ATA            149   24\n",
       "NAP            131   72\n",
       "TA              26   20"
      ]
     },
     "execution_count": 204,
     "metadata": {},
     "output_type": "execute_result"
    }
   ],
   "source": [
    "#effect of chestpain type on Heart disease\n",
    "pd.crosstab(df[\"ChestPainType\"],df[\"HeartDisease\"])"
   ]
  },
  {
   "cell_type": "code",
   "execution_count": 205,
   "id": "97321d23",
   "metadata": {},
   "outputs": [
    {
     "data": {
      "text/plain": [
       "[Text(0.5, 1.0, 'Distribution plot of RestingBP'), Text(0.5, 0, 'RestingBP')]"
      ]
     },
     "execution_count": 205,
     "metadata": {},
     "output_type": "execute_result"
    },
    {
     "data": {
      "image/png": "[encoded data removed]",
      "text/plain": [
       "<Figure size 432x288 with 1 Axes>"
      ]
     },
     "metadata": {},
     "output_type": "display_data"
    }
   ],
   "source": [
    "#Distribution plot of RestingBP\n",
    "df['RestingBP'].plot(kind=\"kde\").set(title=\"Distribution plot of RestingBP\",xlabel=\"RestingBP\")"
   ]
  },
  {
   "cell_type": "code",
   "execution_count": 206,
   "id": "ac1a68fc",
   "metadata": {},
   "outputs": [
    {
     "data": {
      "text/plain": [
       "RestingBP\n",
       "140    55\n",
       "120    55\n",
       "130    52\n",
       "160    34\n",
       "110    32\n",
       "       ..\n",
       "102     1\n",
       "106     1\n",
       "92      1\n",
       "185     1\n",
       "164     1\n",
       "Name: count, Length: 61, dtype: int64"
      ]
     },
     "execution_count": 206,
     "metadata": {},
     "output_type": "execute_result"
    }
   ],
   "source": [
    "df1['RestingBP'].value_counts()"
   ]
  },
  {
   "cell_type": "code",
   "execution_count": 207,
   "id": "a0592792",
   "metadata": {},
   "outputs": [
    {
     "name": "stderr",
     "output_type": "stream",
     "text": [
      "C:\\Users\\Madhuri\\anaconda3\\lib\\site-packages\\seaborn\\distributions.py:2619: FutureWarning: `distplot` is a deprecated function and will be removed in a future version. Please adapt your code to use either `displot` (a figure-level function with similar flexibility) or `histplot` (an axes-level function for histograms).\n",
      "  warnings.warn(msg, FutureWarning)\n"
     ]
    },
    {
     "data": {
      "text/plain": [
       "[Text(0.5, 1.0, 'RestingBP for Heart Disease'), Text(0, 0.5, 'count')]"
      ]
     },
     "execution_count": 207,
     "metadata": {},
     "output_type": "execute_result"
    },
    {
     "data": {
      "image/png": "[encoded data removed]",
      "text/plain": [
       "<Figure size 432x288 with 1 Axes>"
      ]
     },
     "metadata": {},
     "output_type": "display_data"
    }
   ],
   "source": [
    "#effect of Restingbp on heart disease\n",
    "sns.set_style('whitegrid')\n",
    "sns.distplot(df1['RestingBP'], kde = False, color = 'red', bins = 30).set(title = \"RestingBP for Heart Disease\",ylabel=\"count\")"
   ]
  },
  {
   "cell_type": "code",
   "execution_count": 208,
   "id": "735ca7f9",
   "metadata": {},
   "outputs": [
    {
     "data": {
      "text/plain": [
       "[Text(0.5, 1.0, 'RestingBP for NO Heart Disease'), Text(0, 0.5, 'count')]"
      ]
     },
     "execution_count": 208,
     "metadata": {},
     "output_type": "execute_result"
    },
    {
     "data": {
      "image/png": "[encoded data removed]",
      "text/plain": [
       "<Figure size 432x288 with 1 Axes>"
      ]
     },
     "metadata": {},
     "output_type": "display_data"
    }
   ],
   "source": [
    "#effect of RestingBP on no heart disease\n",
    "sns.set_style('whitegrid')\n",
    "sns.distplot(df1['RestingBP'], kde = False, color = 'blue', bins = 30).set(title = \"RestingBP for NO Heart Disease\",ylabel=\"count\")"
   ]
  },
  {
   "cell_type": "code",
   "execution_count": 209,
   "id": "5ed9fe24",
   "metadata": {},
   "outputs": [
    {
     "data": {
      "text/plain": [
       "[Text(0.5, 1.0, 'Distribution of cholesterol'), Text(0.5, 0, 'Cholesterol')]"
      ]
     },
     "execution_count": 209,
     "metadata": {},
     "output_type": "execute_result"
    },
    {
     "data": {
      "image/png": "[encoded data removed]",
      "text/plain": [
       "<Figure size 432x288 with 1 Axes>"
      ]
     },
     "metadata": {},
     "output_type": "display_data"
    }
   ],
   "source": [
    "#distribution of cholestrol\n",
    "df[\"Cholesterol\"].plot(kind=\"kde\").set(title=\"Distribution of cholesterol\",xlabel=\"Cholesterol\")"
   ]
  },
  {
   "cell_type": "code",
   "execution_count": 210,
   "id": "c7e445cc",
   "metadata": {},
   "outputs": [
    {
     "name": "stderr",
     "output_type": "stream",
     "text": [
      "C:\\Users\\Madhuri\\anaconda3\\lib\\site-packages\\seaborn\\distributions.py:2619: FutureWarning: `distplot` is a deprecated function and will be removed in a future version. Please adapt your code to use either `displot` (a figure-level function with similar flexibility) or `histplot` (an axes-level function for histograms).\n",
      "  warnings.warn(msg, FutureWarning)\n"
     ]
    },
    {
     "data": {
      "text/plain": [
       "[Text(0.5, 1.0, 'cholesterol for heart Disease'), Text(0, 0.5, 'count')]"
      ]
     },
     "execution_count": 210,
     "metadata": {},
     "output_type": "execute_result"
    },
    {
     "data": {
      "image/png": "[encoded data removed]",
      "text/plain": [
       "<Figure size 432x288 with 1 Axes>"
      ]
     },
     "metadata": {},
     "output_type": "display_data"
    }
   ],
   "source": [
    "# effect of cholesterol on heart disease\n",
    "sns.set_style(\"whitegrid\")\n",
    "sns.distplot(df1['Cholesterol'],kde = False,color=\"red\",bins = 30).set(title=\"cholesterol for heart Disease\",ylabel=\"count\")"
   ]
  },
  {
   "cell_type": "code",
   "execution_count": 211,
   "id": "6030139b",
   "metadata": {},
   "outputs": [
    {
     "data": {
      "text/plain": [
       "[Text(0.5, 1.0, 'Cholesterol for no heart disease'), Text(0, 0.5, 'count')]"
      ]
     },
     "execution_count": 211,
     "metadata": {},
     "output_type": "execute_result"
    },
    {
     "data": {
      "image/png": "[encoded data removed]",
      "text/plain": [
       "<Figure size 432x288 with 1 Axes>"
      ]
     },
     "metadata": {},
     "output_type": "display_data"
    }
   ],
   "source": [
    "#effect of cholesterol on no heart disease\n",
    "sns.set_style('whitegrid')\n",
    "sns.distplot(df0['Cholesterol'],kde = False,color = \"blue\",bins = 30).set(title = \"Cholesterol for no heart disease\",ylabel=\"count\")"
   ]
  },
  {
   "cell_type": "code",
   "execution_count": 212,
   "id": "6403f00c",
   "metadata": {},
   "outputs": [
    {
     "data": {
      "text/html": [
       "<div>\n",
       "<style scoped>\n",
       "    .dataframe tbody tr th:only-of-type {\n",
       "        vertical-align: middle;\n",
       "    }\n",
       "\n",
       "    .dataframe tbody tr th {\n",
       "        vertical-align: top;\n",
       "    }\n",
       "\n",
       "    .dataframe thead th {\n",
       "        text-align: right;\n",
       "    }\n",
       "</style>\n",
       "<table border=\"1\" class=\"dataframe\">\n",
       "  <thead>\n",
       "    <tr style=\"text-align: right;\">\n",
       "      <th>HeartDisease</th>\n",
       "      <th>0</th>\n",
       "      <th>1</th>\n",
       "    </tr>\n",
       "    <tr>\n",
       "      <th>FastingBS</th>\n",
       "      <th></th>\n",
       "      <th></th>\n",
       "    </tr>\n",
       "  </thead>\n",
       "  <tbody>\n",
       "    <tr>\n",
       "      <th>0</th>\n",
       "      <td>366</td>\n",
       "      <td>338</td>\n",
       "    </tr>\n",
       "    <tr>\n",
       "      <th>1</th>\n",
       "      <td>44</td>\n",
       "      <td>170</td>\n",
       "    </tr>\n",
       "  </tbody>\n",
       "</table>\n",
       "</div>"
      ],
      "text/plain": [
       "HeartDisease    0    1\n",
       "FastingBS             \n",
       "0             366  338\n",
       "1              44  170"
      ]
     },
     "execution_count": 212,
     "metadata": {},
     "output_type": "execute_result"
    }
   ],
   "source": [
    "#effect of fastingbs type on heart disease\n",
    "pd.crosstab(df[\"FastingBS\"],df[\"HeartDisease\"])"
   ]
  },
  {
   "cell_type": "code",
   "execution_count": 213,
   "id": "774c9256",
   "metadata": {},
   "outputs": [
    {
     "data": {
      "text/html": [
       "<div>\n",
       "<style scoped>\n",
       "    .dataframe tbody tr th:only-of-type {\n",
       "        vertical-align: middle;\n",
       "    }\n",
       "\n",
       "    .dataframe tbody tr th {\n",
       "        vertical-align: top;\n",
       "    }\n",
       "\n",
       "    .dataframe thead th {\n",
       "        text-align: right;\n",
       "    }\n",
       "</style>\n",
       "<table border=\"1\" class=\"dataframe\">\n",
       "  <thead>\n",
       "    <tr style=\"text-align: right;\">\n",
       "      <th>HeartDisease</th>\n",
       "      <th>0</th>\n",
       "      <th>1</th>\n",
       "    </tr>\n",
       "    <tr>\n",
       "      <th>RestingECG</th>\n",
       "      <th></th>\n",
       "      <th></th>\n",
       "    </tr>\n",
       "  </thead>\n",
       "  <tbody>\n",
       "    <tr>\n",
       "      <th>LVH</th>\n",
       "      <td>82</td>\n",
       "      <td>106</td>\n",
       "    </tr>\n",
       "    <tr>\n",
       "      <th>Normal</th>\n",
       "      <td>267</td>\n",
       "      <td>285</td>\n",
       "    </tr>\n",
       "    <tr>\n",
       "      <th>ST</th>\n",
       "      <td>61</td>\n",
       "      <td>117</td>\n",
       "    </tr>\n",
       "  </tbody>\n",
       "</table>\n",
       "</div>"
      ],
      "text/plain": [
       "HeartDisease    0    1\n",
       "RestingECG            \n",
       "LVH            82  106\n",
       "Normal        267  285\n",
       "ST             61  117"
      ]
     },
     "execution_count": 213,
     "metadata": {},
     "output_type": "execute_result"
    }
   ],
   "source": [
    "#effect of RestingECG on heart disease\n",
    "pd.crosstab(df[\"RestingECG\"],df[\"HeartDisease\"])"
   ]
  },
  {
   "cell_type": "code",
   "execution_count": 214,
   "id": "a55317b8",
   "metadata": {},
   "outputs": [
    {
     "data": {
      "text/plain": [
       "[Text(0.5, 1.0, 'Distribution plot of MaxHR'), Text(0.5, 0, 'MaxHr')]"
      ]
     },
     "execution_count": 214,
     "metadata": {},
     "output_type": "execute_result"
    },
    {
     "data": {
      "image/png": "[encoded data removed]",
      "text/plain": [
       "<Figure size 432x288 with 1 Axes>"
      ]
     },
     "metadata": {},
     "output_type": "display_data"
    }
   ],
   "source": [
    "#Distribution plot of maxHR\n",
    "df[\"MaxHR\"].plot(kind=\"kde\").set(title=\"Distribution plot of MaxHR\",xlabel=\"MaxHr\")"
   ]
  },
  {
   "cell_type": "code",
   "execution_count": 215,
   "id": "4943ae9b",
   "metadata": {},
   "outputs": [
    {
     "name": "stderr",
     "output_type": "stream",
     "text": [
      "C:\\Users\\Madhuri\\anaconda3\\lib\\site-packages\\seaborn\\distributions.py:2619: FutureWarning: `distplot` is a deprecated function and will be removed in a future version. Please adapt your code to use either `displot` (a figure-level function with similar flexibility) or `histplot` (an axes-level function for histograms).\n",
      "  warnings.warn(msg, FutureWarning)\n"
     ]
    },
    {
     "data": {
      "text/plain": [
       "[Text(0.5, 1.0, 'Max HR for heart Disease'), Text(0, 0.5, 'count')]"
      ]
     },
     "execution_count": 215,
     "metadata": {},
     "output_type": "execute_result"
    },
    {
     "data": {
      "image/png": "[encoded data removed]",
      "text/plain": [
       "<Figure size 432x288 with 1 Axes>"
      ]
     },
     "metadata": {},
     "output_type": "display_data"
    }
   ],
   "source": [
    "#effect of MaxHR on heart disease\n",
    "sns.set_style(\"whitegrid\")\n",
    "sns.distplot(df1[\"MaxHR\"], kde = False,color=\"red\",bins=30).set(title=\"Max HR for heart Disease\",ylabel=\"count\")"
   ]
  },
  {
   "cell_type": "code",
   "execution_count": 216,
   "id": "322c3dad",
   "metadata": {},
   "outputs": [
    {
     "data": {
      "text/plain": [
       "[Text(0.5, 1.0, 'MaxHR on no heart Disease '), Text(0, 0.5, 'count')]"
      ]
     },
     "execution_count": 216,
     "metadata": {},
     "output_type": "execute_result"
    },
    {
     "data": {
      "image/png": "[encoded data removed]",
      "text/plain": [
       "<Figure size 432x288 with 1 Axes>"
      ]
     },
     "metadata": {},
     "output_type": "display_data"
    }
   ],
   "source": [
    "#effect of MaxHR on no heart disease\n",
    "sns.set_style(\"whitegrid\")\n",
    "sns.distplot(df0[\"MaxHR\"],kde=False,color=\"blue\",bins=30).set(title=\"MaxHR on no heart Disease \",ylabel=\"count\")"
   ]
  },
  {
   "cell_type": "code",
   "execution_count": 217,
   "id": "6cf8bd00",
   "metadata": {},
   "outputs": [
    {
     "data": {
      "text/html": [
       "<div>\n",
       "<style scoped>\n",
       "    .dataframe tbody tr th:only-of-type {\n",
       "        vertical-align: middle;\n",
       "    }\n",
       "\n",
       "    .dataframe tbody tr th {\n",
       "        vertical-align: top;\n",
       "    }\n",
       "\n",
       "    .dataframe thead th {\n",
       "        text-align: right;\n",
       "    }\n",
       "</style>\n",
       "<table border=\"1\" class=\"dataframe\">\n",
       "  <thead>\n",
       "    <tr style=\"text-align: right;\">\n",
       "      <th>HeartDisease</th>\n",
       "      <th>0</th>\n",
       "      <th>1</th>\n",
       "    </tr>\n",
       "    <tr>\n",
       "      <th>ExerciseAngina</th>\n",
       "      <th></th>\n",
       "      <th></th>\n",
       "    </tr>\n",
       "  </thead>\n",
       "  <tbody>\n",
       "    <tr>\n",
       "      <th>N</th>\n",
       "      <td>355</td>\n",
       "      <td>192</td>\n",
       "    </tr>\n",
       "    <tr>\n",
       "      <th>Y</th>\n",
       "      <td>55</td>\n",
       "      <td>316</td>\n",
       "    </tr>\n",
       "  </tbody>\n",
       "</table>\n",
       "</div>"
      ],
      "text/plain": [
       "HeartDisease      0    1\n",
       "ExerciseAngina          \n",
       "N               355  192\n",
       "Y                55  316"
      ]
     },
     "execution_count": 217,
     "metadata": {},
     "output_type": "execute_result"
    }
   ],
   "source": [
    "#effect of ExerciseAngina type on Heart disease\n",
    "pd.crosstab(df[\"ExerciseAngina\"],df[\"HeartDisease\"])"
   ]
  },
  {
   "cell_type": "code",
   "execution_count": 218,
   "id": "8e0af5be",
   "metadata": {},
   "outputs": [
    {
     "data": {
      "text/plain": [
       "53"
      ]
     },
     "execution_count": 218,
     "metadata": {},
     "output_type": "execute_result"
    }
   ],
   "source": [
    "df[\"Oldpeak\"].nunique()"
   ]
  },
  {
   "cell_type": "code",
   "execution_count": 219,
   "id": "b06575ac",
   "metadata": {},
   "outputs": [
    {
     "data": {
      "text/plain": [
       "[Text(0.5, 1.0, 'Distribution plot of oldpeak'), Text(0.5, 0, 'oldpeak')]"
      ]
     },
     "execution_count": 219,
     "metadata": {},
     "output_type": "execute_result"
    },
    {
     "data": {
      "image/png": "[encoded data removed]",
      "text/plain": [
       "<Figure size 432x288 with 1 Axes>"
      ]
     },
     "metadata": {},
     "output_type": "display_data"
    }
   ],
   "source": [
    "#Distribution plot of Oldpeak\n",
    "df[\"Oldpeak\"].plot(kind=\"kde\").set(title=\"Distribution plot of oldpeak\",xlabel=\"oldpeak\")"
   ]
  },
  {
   "cell_type": "code",
   "execution_count": 220,
   "id": "dfcdfdd5",
   "metadata": {},
   "outputs": [
    {
     "name": "stderr",
     "output_type": "stream",
     "text": [
      "C:\\Users\\Madhuri\\anaconda3\\lib\\site-packages\\seaborn\\distributions.py:2619: FutureWarning: `distplot` is a deprecated function and will be removed in a future version. Please adapt your code to use either `displot` (a figure-level function with similar flexibility) or `histplot` (an axes-level function for histograms).\n",
      "  warnings.warn(msg, FutureWarning)\n"
     ]
    },
    {
     "data": {
      "text/plain": [
       "[Text(0.5, 1.0, 'Oldpeak for heart Disease'), Text(0, 0.5, 'count')]"
      ]
     },
     "execution_count": 220,
     "metadata": {},
     "output_type": "execute_result"
    },
    {
     "data": {
      "image/png": "[encoded data removed]",
      "text/plain": [
       "<Figure size 432x288 with 1 Axes>"
      ]
     },
     "metadata": {},
     "output_type": "display_data"
    }
   ],
   "source": [
    "#effect of Oldpeak on heart disease\n",
    "sns.set_style(\"whitegrid\")\n",
    "sns.distplot(df1[\"Oldpeak\"], kde = False,color=\"red\",bins=30).set(title=\"Oldpeak for heart Disease\",ylabel=\"count\")"
   ]
  },
  {
   "cell_type": "code",
   "execution_count": 221,
   "id": "0d0fc084",
   "metadata": {},
   "outputs": [
    {
     "data": {
      "text/plain": [
       "[Text(0.5, 1.0, 'Oldpeak for no heart disease'), Text(0, 0.5, 'count')]"
      ]
     },
     "execution_count": 221,
     "metadata": {},
     "output_type": "execute_result"
    },
    {
     "data": {
      "image/png": "[encoded data removed]",
      "text/plain": [
       "<Figure size 432x288 with 1 Axes>"
      ]
     },
     "metadata": {},
     "output_type": "display_data"
    }
   ],
   "source": [
    "#effect of oldpeak on no heart disease\n",
    "sns.set_style('whitegrid')\n",
    "sns.distplot(df0['Oldpeak'],kde = False,color = \"blue\",bins = 30).set(title = \"Oldpeak for no heart disease\",ylabel=\"count\")"
   ]
  },
  {
   "cell_type": "code",
   "execution_count": 222,
   "id": "2e367d5a",
   "metadata": {},
   "outputs": [
    {
     "data": {
      "text/html": [
       "<div>\n",
       "<style scoped>\n",
       "    .dataframe tbody tr th:only-of-type {\n",
       "        vertical-align: middle;\n",
       "    }\n",
       "\n",
       "    .dataframe tbody tr th {\n",
       "        vertical-align: top;\n",
       "    }\n",
       "\n",
       "    .dataframe thead th {\n",
       "        text-align: right;\n",
       "    }\n",
       "</style>\n",
       "<table border=\"1\" class=\"dataframe\">\n",
       "  <thead>\n",
       "    <tr style=\"text-align: right;\">\n",
       "      <th>HeartDisease</th>\n",
       "      <th>0</th>\n",
       "      <th>1</th>\n",
       "    </tr>\n",
       "    <tr>\n",
       "      <th>ST_Slope</th>\n",
       "      <th></th>\n",
       "      <th></th>\n",
       "    </tr>\n",
       "  </thead>\n",
       "  <tbody>\n",
       "    <tr>\n",
       "      <th>Down</th>\n",
       "      <td>14</td>\n",
       "      <td>49</td>\n",
       "    </tr>\n",
       "    <tr>\n",
       "      <th>Flat</th>\n",
       "      <td>79</td>\n",
       "      <td>381</td>\n",
       "    </tr>\n",
       "    <tr>\n",
       "      <th>Up</th>\n",
       "      <td>317</td>\n",
       "      <td>78</td>\n",
       "    </tr>\n",
       "  </tbody>\n",
       "</table>\n",
       "</div>"
      ],
      "text/plain": [
       "HeartDisease    0    1\n",
       "ST_Slope              \n",
       "Down           14   49\n",
       "Flat           79  381\n",
       "Up            317   78"
      ]
     },
     "execution_count": 222,
     "metadata": {},
     "output_type": "execute_result"
    }
   ],
   "source": [
    "#effect of St_slope type on heart disease\n",
    "pd.crosstab(df[\"ST_Slope\"],df[\"HeartDisease\"])"
   ]
  },
  {
   "cell_type": "code",
   "execution_count": 223,
   "id": "5e037600",
   "metadata": {},
   "outputs": [
    {
     "data": {
      "text/html": [
       "<div>\n",
       "<style scoped>\n",
       "    .dataframe tbody tr th:only-of-type {\n",
       "        vertical-align: middle;\n",
       "    }\n",
       "\n",
       "    .dataframe tbody tr th {\n",
       "        vertical-align: top;\n",
       "    }\n",
       "\n",
       "    .dataframe thead th {\n",
       "        text-align: right;\n",
       "    }\n",
       "</style>\n",
       "<table border=\"1\" class=\"dataframe\">\n",
       "  <thead>\n",
       "    <tr style=\"text-align: right;\">\n",
       "      <th></th>\n",
       "      <th>Age</th>\n",
       "      <th>RestingBP</th>\n",
       "      <th>Cholesterol</th>\n",
       "      <th>FastingBS</th>\n",
       "      <th>MaxHR</th>\n",
       "      <th>Oldpeak</th>\n",
       "      <th>HeartDisease</th>\n",
       "    </tr>\n",
       "  </thead>\n",
       "  <tbody>\n",
       "    <tr>\n",
       "      <th>Age</th>\n",
       "      <td>1.000000</td>\n",
       "      <td>0.254399</td>\n",
       "      <td>-0.095282</td>\n",
       "      <td>0.198039</td>\n",
       "      <td>-0.382045</td>\n",
       "      <td>0.258612</td>\n",
       "      <td>0.282039</td>\n",
       "    </tr>\n",
       "    <tr>\n",
       "      <th>RestingBP</th>\n",
       "      <td>0.254399</td>\n",
       "      <td>1.000000</td>\n",
       "      <td>0.100893</td>\n",
       "      <td>0.070193</td>\n",
       "      <td>-0.112135</td>\n",
       "      <td>0.164803</td>\n",
       "      <td>0.107589</td>\n",
       "    </tr>\n",
       "    <tr>\n",
       "      <th>Cholesterol</th>\n",
       "      <td>-0.095282</td>\n",
       "      <td>0.100893</td>\n",
       "      <td>1.000000</td>\n",
       "      <td>-0.260974</td>\n",
       "      <td>0.235792</td>\n",
       "      <td>0.050148</td>\n",
       "      <td>-0.232741</td>\n",
       "    </tr>\n",
       "    <tr>\n",
       "      <th>FastingBS</th>\n",
       "      <td>0.198039</td>\n",
       "      <td>0.070193</td>\n",
       "      <td>-0.260974</td>\n",
       "      <td>1.000000</td>\n",
       "      <td>-0.131438</td>\n",
       "      <td>0.052698</td>\n",
       "      <td>0.267291</td>\n",
       "    </tr>\n",
       "    <tr>\n",
       "      <th>MaxHR</th>\n",
       "      <td>-0.382045</td>\n",
       "      <td>-0.112135</td>\n",
       "      <td>0.235792</td>\n",
       "      <td>-0.131438</td>\n",
       "      <td>1.000000</td>\n",
       "      <td>-0.160691</td>\n",
       "      <td>-0.400421</td>\n",
       "    </tr>\n",
       "    <tr>\n",
       "      <th>Oldpeak</th>\n",
       "      <td>0.258612</td>\n",
       "      <td>0.164803</td>\n",
       "      <td>0.050148</td>\n",
       "      <td>0.052698</td>\n",
       "      <td>-0.160691</td>\n",
       "      <td>1.000000</td>\n",
       "      <td>0.403951</td>\n",
       "    </tr>\n",
       "    <tr>\n",
       "      <th>HeartDisease</th>\n",
       "      <td>0.282039</td>\n",
       "      <td>0.107589</td>\n",
       "      <td>-0.232741</td>\n",
       "      <td>0.267291</td>\n",
       "      <td>-0.400421</td>\n",
       "      <td>0.403951</td>\n",
       "      <td>1.000000</td>\n",
       "    </tr>\n",
       "  </tbody>\n",
       "</table>\n",
       "</div>"
      ],
      "text/plain": [
       "                   Age  RestingBP  Cholesterol  FastingBS     MaxHR   Oldpeak   \n",
       "Age           1.000000   0.254399    -0.095282   0.198039 -0.382045  0.258612  \\\n",
       "RestingBP     0.254399   1.000000     0.100893   0.070193 -0.112135  0.164803   \n",
       "Cholesterol  -0.095282   0.100893     1.000000  -0.260974  0.235792  0.050148   \n",
       "FastingBS     0.198039   0.070193    -0.260974   1.000000 -0.131438  0.052698   \n",
       "MaxHR        -0.382045  -0.112135     0.235792  -0.131438  1.000000 -0.160691   \n",
       "Oldpeak       0.258612   0.164803     0.050148   0.052698 -0.160691  1.000000   \n",
       "HeartDisease  0.282039   0.107589    -0.232741   0.267291 -0.400421  0.403951   \n",
       "\n",
       "              HeartDisease  \n",
       "Age               0.282039  \n",
       "RestingBP         0.107589  \n",
       "Cholesterol      -0.232741  \n",
       "FastingBS         0.267291  \n",
       "MaxHR            -0.400421  \n",
       "Oldpeak           0.403951  \n",
       "HeartDisease      1.000000  "
      ]
     },
     "execution_count": 223,
     "metadata": {},
     "output_type": "execute_result"
    }
   ],
   "source": [
    "dff= df.select_dtypes(include='number')\n",
    "corrmatrix = dff.corr()\n",
    "corrmatrix"
   ]
  },
  {
   "cell_type": "code",
   "execution_count": 224,
   "id": "59f720d6",
   "metadata": {},
   "outputs": [],
   "source": [
    "df =pd.get_dummies(df,drop_first=True)"
   ]
  },
  {
   "cell_type": "code",
   "execution_count": 225,
   "id": "e3f34fb0",
   "metadata": {},
   "outputs": [],
   "source": [
    "# Seperate the input and output data\n",
    "x= df.drop(\"HeartDisease\",axis=1)\n",
    "y=df[[\"HeartDisease\"]]"
   ]
  },
  {
   "cell_type": "code",
   "execution_count": 226,
   "id": "8fb85cf6",
   "metadata": {},
   "outputs": [],
   "source": [
    "from sklearn.model_selection import train_test_split"
   ]
  },
  {
   "cell_type": "code",
   "execution_count": 227,
   "id": "2ec468e6",
   "metadata": {},
   "outputs": [],
   "source": [
    "X_train, X_test,y_train,y_test = train_test_split(x,y,test_size=0.2,random_state=42)"
   ]
  },
  {
   "cell_type": "code",
   "execution_count": 228,
   "id": "21162426",
   "metadata": {},
   "outputs": [
    {
     "data": {
      "text/plain": [
       "(734, 24)"
      ]
     },
     "execution_count": 228,
     "metadata": {},
     "output_type": "execute_result"
    }
   ],
   "source": [
    "X_train.shape"
   ]
  },
  {
   "cell_type": "code",
   "execution_count": 229,
   "id": "68a8bfa4",
   "metadata": {},
   "outputs": [
    {
     "data": {
      "text/plain": [
       "(184, 24)"
      ]
     },
     "execution_count": 229,
     "metadata": {},
     "output_type": "execute_result"
    }
   ],
   "source": [
    "X_test.shape"
   ]
  },
  {
   "cell_type": "code",
   "execution_count": 230,
   "id": "c6b09307",
   "metadata": {},
   "outputs": [],
   "source": [
    "# Model-1 : Naive Bayes\n",
    "from sklearn.naive_bayes import GaussianNB"
   ]
  },
  {
   "cell_type": "code",
   "execution_count": 231,
   "id": "c9d89468",
   "metadata": {},
   "outputs": [],
   "source": [
    "model1=GaussianNB()"
   ]
  },
  {
   "cell_type": "code",
   "execution_count": 232,
   "id": "9d2f8021",
   "metadata": {},
   "outputs": [
    {
     "name": "stderr",
     "output_type": "stream",
     "text": [
      "C:\\Users\\Madhuri\\anaconda3\\lib\\site-packages\\sklearn\\utils\\validation.py:63: DataConversionWarning: A column-vector y was passed when a 1d array was expected. Please change the shape of y to (n_samples, ), for example using ravel().\n",
      "  return f(*args, **kwargs)\n"
     ]
    },
    {
     "data": {
      "text/plain": [
       "GaussianNB()"
      ]
     },
     "execution_count": 232,
     "metadata": {},
     "output_type": "execute_result"
    }
   ],
   "source": [
    "model1.fit(X_train,y_train)"
   ]
  },
  {
   "cell_type": "code",
   "execution_count": 233,
   "id": "23d1b54d",
   "metadata": {},
   "outputs": [],
   "source": [
    "ypred1=model1.predict(X_test)"
   ]
  },
  {
   "cell_type": "code",
   "execution_count": 234,
   "id": "9e416b87",
   "metadata": {},
   "outputs": [],
   "source": [
    "from sklearn.metrics import accuracy_score, plot_confusion_matrix"
   ]
  },
  {
   "cell_type": "code",
   "execution_count": 235,
   "id": "172af9d8",
   "metadata": {},
   "outputs": [
    {
     "data": {
      "text/plain": [
       "0.8695652173913043"
      ]
     },
     "execution_count": 235,
     "metadata": {},
     "output_type": "execute_result"
    }
   ],
   "source": [
    "accuracy_score(y_test,ypred1)"
   ]
  },
  {
   "cell_type": "code",
   "execution_count": 236,
   "id": "fa83eb84",
   "metadata": {},
   "outputs": [],
   "source": [
    "# Model-2: - KNN with Scaling\n",
    "from sklearn.neighbors import KNeighborsClassifier"
   ]
  },
  {
   "cell_type": "code",
   "execution_count": 237,
   "id": "f5f2915e",
   "metadata": {},
   "outputs": [],
   "source": [
    "#Scaling to get all the values in the same range\n",
    "from sklearn.preprocessing import StandardScaler"
   ]
  },
  {
   "cell_type": "code",
   "execution_count": 238,
   "id": "c29a0cf2",
   "metadata": {},
   "outputs": [],
   "source": [
    "scalar = StandardScaler()"
   ]
  },
  {
   "cell_type": "code",
   "execution_count": 239,
   "id": "e373700d",
   "metadata": {},
   "outputs": [],
   "source": [
    "X_train_s = scalar.fit_transform(X_train)\n",
    "X_test_s = scalar.transform(X_test)"
   ]
  },
  {
   "cell_type": "code",
   "execution_count": 240,
   "id": "057e09f0",
   "metadata": {},
   "outputs": [],
   "source": [
    "model2 = KNeighborsClassifier()\n"
   ]
  },
  {
   "cell_type": "code",
   "execution_count": 241,
   "id": "9b94e07a",
   "metadata": {},
   "outputs": [
    {
     "name": "stderr",
     "output_type": "stream",
     "text": [
      "C:\\Users\\Madhuri\\anaconda3\\lib\\site-packages\\sklearn\\neighbors\\_classification.py:179: DataConversionWarning: A column-vector y was passed when a 1d array was expected. Please change the shape of y to (n_samples,), for example using ravel().\n",
      "  return self._fit(X, y)\n"
     ]
    },
    {
     "data": {
      "text/plain": [
       "KNeighborsClassifier()"
      ]
     },
     "execution_count": 241,
     "metadata": {},
     "output_type": "execute_result"
    }
   ],
   "source": [
    "model2.fit(X_train_s,y_train)"
   ]
  },
  {
   "cell_type": "code",
   "execution_count": 242,
   "id": "bb569efa",
   "metadata": {},
   "outputs": [],
   "source": [
    "ypred2 = model2.predict(X_test_s)"
   ]
  },
  {
   "cell_type": "code",
   "execution_count": 243,
   "id": "a41b0da7",
   "metadata": {},
   "outputs": [
    {
     "data": {
      "text/plain": [
       "0.8532608695652174"
      ]
     },
     "execution_count": 243,
     "metadata": {},
     "output_type": "execute_result"
    }
   ],
   "source": [
    "accuracy_score(y_test,ypred2)"
   ]
  },
  {
   "cell_type": "code",
   "execution_count": 244,
   "id": "0c9dffda",
   "metadata": {},
   "outputs": [],
   "source": [
    "# model3 - SVM(used for both classification and regression)\n",
    "from sklearn.svm import SVC"
   ]
  },
  {
   "cell_type": "code",
   "execution_count": 245,
   "id": "183fed2d",
   "metadata": {},
   "outputs": [],
   "source": [
    "model3 = SVC()"
   ]
  },
  {
   "cell_type": "code",
   "execution_count": 246,
   "id": "0036f092",
   "metadata": {},
   "outputs": [
    {
     "name": "stderr",
     "output_type": "stream",
     "text": [
      "C:\\Users\\Madhuri\\anaconda3\\lib\\site-packages\\sklearn\\utils\\validation.py:63: DataConversionWarning: A column-vector y was passed when a 1d array was expected. Please change the shape of y to (n_samples, ), for example using ravel().\n",
      "  return f(*args, **kwargs)\n"
     ]
    },
    {
     "data": {
      "text/plain": [
       "SVC()"
      ]
     },
     "execution_count": 246,
     "metadata": {},
     "output_type": "execute_result"
    }
   ],
   "source": [
    "model3.fit(X_train_s,y_train)"
   ]
  },
  {
   "cell_type": "code",
   "execution_count": 247,
   "id": "bd5c2fb8",
   "metadata": {},
   "outputs": [],
   "source": [
    "ypred3 = model3.predict(X_test_s)"
   ]
  },
  {
   "cell_type": "code",
   "execution_count": 248,
   "id": "4103d5f5",
   "metadata": {},
   "outputs": [
    {
     "data": {
      "text/plain": [
       "0.8532608695652174"
      ]
     },
     "execution_count": 248,
     "metadata": {},
     "output_type": "execute_result"
    }
   ],
   "source": [
    "accuracy_score(y_test,ypred3)"
   ]
  },
  {
   "cell_type": "code",
   "execution_count": 249,
   "id": "5fe351fc",
   "metadata": {},
   "outputs": [],
   "source": [
    "#Model 4- Decision Tree Algorithm\n",
    "from sklearn.tree import DecisionTreeClassifier"
   ]
  },
  {
   "cell_type": "code",
   "execution_count": 250,
   "id": "790f735d",
   "metadata": {},
   "outputs": [],
   "source": [
    "model4 = DecisionTreeClassifier()"
   ]
  },
  {
   "cell_type": "code",
   "execution_count": 251,
   "id": "220d6c8c",
   "metadata": {},
   "outputs": [
    {
     "data": {
      "text/plain": [
       "DecisionTreeClassifier()"
      ]
     },
     "execution_count": 251,
     "metadata": {},
     "output_type": "execute_result"
    }
   ],
   "source": [
    "model4.fit(X_train,y_train)"
   ]
  },
  {
   "cell_type": "code",
   "execution_count": 252,
   "id": "74fbb59f",
   "metadata": {},
   "outputs": [],
   "source": [
    "ypred4 = model4.predict(X_test)"
   ]
  },
  {
   "cell_type": "code",
   "execution_count": 253,
   "id": "37e00e13",
   "metadata": {},
   "outputs": [
    {
     "data": {
      "text/plain": [
       "0.842391304347826"
      ]
     },
     "execution_count": 253,
     "metadata": {},
     "output_type": "execute_result"
    }
   ],
   "source": [
    "accuracy_score(y_test,ypred4)"
   ]
  },
  {
   "cell_type": "code",
   "execution_count": 254,
   "id": "ae3ddfa3",
   "metadata": {},
   "outputs": [],
   "source": [
    "#Accuracy_Scores of the following methods are :\n",
    "#1. Naive Bayes - 0.8695652173913043\n",
    "#2. KNN - 0.8532608695652174\n",
    "#3. SVM - 0.8532608695652174\n",
    "#4. Decision Tree - 0.842391304347826\n",
    "# We use svm model caz it has better accuracy"
   ]
  },
  {
   "cell_type": "code",
   "execution_count": 255,
   "id": "98d85648",
   "metadata": {},
   "outputs": [
    {
     "name": "stdout",
     "output_type": "stream",
     "text": [
      "\n",
      " True Positives =  64\n",
      "\n",
      " True Negatives =  93\n",
      "\n",
      " False Positives =  13\n",
      "\n",
      " False Negatives =  14\n"
     ]
    },
    {
     "data": {
      "image/png": "[encoded data removed]",
      "text/plain": [
       "<Figure size 432x288 with 2 Axes>"
      ]
     },
     "metadata": {},
     "output_type": "display_data"
    }
   ],
   "source": [
    "# to plot confusion matrix\n",
    "plot_confusion_matrix(model3,X_test_s,y_test)\n",
    "from sklearn.metrics import confusion_matrix\n",
    "cm = confusion_matrix(y_test,ypred3)\n",
    "print(\"\\n True Positives = \",cm[0,0])\n",
    "print(\"\\n True Negatives = \",cm[1,1])\n",
    "print(\"\\n False Positives = \",cm[0,1])\n",
    "print(\"\\n False Negatives = \",cm[1,0])"
   ]
  },
  {
   "cell_type": "code",
   "execution_count": 256,
   "id": "ddc4508e",
   "metadata": {},
   "outputs": [
    {
     "name": "stdout",
     "output_type": "stream",
     "text": [
      "              precision    recall  f1-score   support\n",
      "\n",
      "           0       0.82      0.83      0.83        77\n",
      "           1       0.88      0.87      0.87       107\n",
      "\n",
      "    accuracy                           0.85       184\n",
      "   macro avg       0.85      0.85      0.85       184\n",
      "weighted avg       0.85      0.85      0.85       184\n",
      "\n"
     ]
    }
   ],
   "source": [
    "#Classification Report\n",
    "from sklearn.metrics import classification_report\n",
    "print(classification_report(y_test,ypred3))"
   ]
  },
  {
   "cell_type": "code",
   "execution_count": 257,
   "id": "bb735eb9",
   "metadata": {},
   "outputs": [],
   "source": [
    "TP = cm[0,0]\n",
    "TN = cm[1,1]\n",
    "FP = cm[0,1]\n",
    "FN = cm[1,0]"
   ]
  },
  {
   "cell_type": "code",
   "execution_count": 258,
   "id": "892b9469",
   "metadata": {},
   "outputs": [
    {
     "name": "stdout",
     "output_type": "stream",
     "text": [
      "Classification Accuracy =  0.8532608695652174\n",
      "Classification error =  0.14673913043478262\n"
     ]
    }
   ],
   "source": [
    "# Classification Accuracy and Error\n",
    "classification_accuracy = (TP + TN)/float(TP + TN + FP + FN)\n",
    "print(\"Classification Accuracy = \",classification_accuracy)\n",
    "\n",
    "classification_error = (FP + FN)/float(TP + TN + FP + FN)\n",
    "print(\"Classification error = \",classification_error)"
   ]
  },
  {
   "cell_type": "code",
   "execution_count": 259,
   "id": "1b903496",
   "metadata": {},
   "outputs": [
    {
     "name": "stdout",
     "output_type": "stream",
     "text": [
      "Precision = 0.8311688311688312\n"
     ]
    }
   ],
   "source": [
    "#precision\n",
    "precision = TP/float(TP + FP)\n",
    "print(\"Precision =\",precision)"
   ]
  },
  {
   "cell_type": "code",
   "execution_count": 260,
   "id": "ca695a42",
   "metadata": {},
   "outputs": [
    {
     "name": "stdout",
     "output_type": "stream",
     "text": [
      "recall = 0.8205128205128205\n"
     ]
    }
   ],
   "source": [
    "#Recall\n",
    "recall = TP/float(TP + FN)\n",
    "print(\"recall =\",recall)"
   ]
  },
  {
   "cell_type": "code",
   "execution_count": 261,
   "id": "e3468d80",
   "metadata": {},
   "outputs": [
    {
     "name": "stdout",
     "output_type": "stream",
     "text": [
      "True Positive Rate = 0.8205128205128205\n",
      "False Positive Rate = 0.16666666666666666\n"
     ]
    }
   ],
   "source": [
    "#True positive and False positive rate\n",
    "true_positive_rate = TP/float(TP+FN)\n",
    "print(\"True Positive Rate =\",true_positive_rate)\n",
    "\n",
    "false_positive_rate = FP/float(TP+FN)\n",
    "print(\"False Positive Rate =\",false_positive_rate)"
   ]
  },
  {
   "cell_type": "code",
   "execution_count": 262,
   "id": "4f5ccb12",
   "metadata": {},
   "outputs": [
    {
     "name": "stdout",
     "output_type": "stream",
     "text": [
      "Specificity= 0.8773584905660378\n"
     ]
    }
   ],
   "source": [
    "#specificity\n",
    "specificity = TN/(TN+FP)\n",
    "print(\"Specificity=\",specificity)"
   ]
  },
  {
   "cell_type": "code",
   "execution_count": 263,
   "id": "e619f6dd",
   "metadata": {},
   "outputs": [
    {
     "name": "stdout",
     "output_type": "stream",
     "text": [
      "Sensitivity= 0.8205128205128205\n"
     ]
    }
   ],
   "source": [
    "#sensitivity\n",
    "sensitivity = TP / (TP + FN)\n",
    "print(\"Sensitivity=\",sensitivity)"
   ]
  },
  {
   "cell_type": "code",
   "execution_count": 264,
   "id": "2e4031bd",
   "metadata": {},
   "outputs": [
    {
     "data": {
      "image/png": "[encoded data removed]",
      "text/plain": [
       "<Figure size 432x288 with 1 Axes>"
      ]
     },
     "metadata": {},
     "output_type": "display_data"
    }
   ],
   "source": [
    "# ROC Curve - Receiver Operating Characteristics\n",
    "from sklearn.metrics import roc_curve \n",
    "fpr, tpr, thresholds = roc_curve(y_test,ypred3)\n",
    "plt.figure(figsize=(6,4))\n",
    "plt.plot(fpr, tpr, linewidth=2)\n",
    "plt.plot([0,1],[0,1],'k--')\n",
    "plt.rcParams['font.size']=12\n",
    "plt.title('ROC curve')\n",
    "plt.xlabel('False Positive rate')\n",
    "plt.ylabel('True Positive rate')\n",
    "plt.show()"
   ]
  },
  {
   "cell_type": "code",
   "execution_count": 265,
   "id": "144128d6",
   "metadata": {},
   "outputs": [],
   "source": [
    "#ROC - This curve tells about the performance of classification model on all classification thresholds \n",
    "# it mainly contains 2 parameters True positive rate and False positive rate"
   ]
  },
  {
   "cell_type": "code",
   "execution_count": 266,
   "id": "e88bdeee",
   "metadata": {},
   "outputs": [
    {
     "name": "stdout",
     "output_type": "stream",
     "text": [
      "ROC AUC =  0.850163854836752\n"
     ]
    }
   ],
   "source": [
    "# ROC - Area Under Curve\n",
    "from sklearn.metrics import roc_auc_score\n",
    "ROC_AUC = roc_auc_score(y_test,ypred3)\n",
    "print(\"ROC AUC = \",ROC_AUC)"
   ]
  },
  {
   "cell_type": "code",
   "execution_count": 267,
   "id": "b8625618",
   "metadata": {},
   "outputs": [],
   "source": [
    "#AUC- area under the curve, it measures the area from(0,0 to (1,1))\n",
    "#The value from 0.8 - 0.9 is considered as a good model"
   ]
  }
 ],
 "metadata": {
  "kernelspec": {
   "display_name": "Python 3 (ipykernel)",
   "language": "python",
   "name": "python3"
  },
  "language_info": {
   "codemirror_mode": {
    "name": "ipython",
    "version": 3
   },
   "file_extension": ".py",
   "mimetype": "text/x-python",
   "name": "python",
   "nbconvert_exporter": "python",
   "pygments_lexer": "ipython3",
   "version": "3.9.7"
  }
 },
 "nbformat": 4,
 "nbformat_minor": 5
}
